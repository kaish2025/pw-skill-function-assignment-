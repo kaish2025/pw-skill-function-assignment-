{
 "cells": [
  {
   "cell_type": "code",
   "execution_count": null,
   "id": "58897f5c-b319-41d5-9c80-db8fa33b4fac",
   "metadata": {},
   "outputs": [],
   "source": [
    "# Q 1  What are the five key concepts of Object-Oriented Programming (OOP)?\n",
    "''' The five key concepts of Object-Oriented Programming (OOP) are:\n",
    "Encapsulation\n",
    "Hides the internal details of an object and only exposes the necessary information. \n",
    "\n",
    "Inheritance\n",
    "Allows classes to inherit properties and behaviors from parent classes. \n",
    "\n",
    "Polymorphism\n",
    "Means \"one name, many forms\". There are two types of polymorphism: static and dynamic.\n",
    "\n",
    "Abstraction\n",
    "Simplifies complex reality by modeling classes on essential properties and behaviors. \n",
    "\n",
    "Class\n",
    "A user-defined data type that represents a set of properties or methods common to all objects of one type. '''\n"
   ]
  },
  {
   "cell_type": "code",
   "execution_count": 3,
   "id": "618d1af2-2b17-4799-838b-1eae140ba938",
   "metadata": {},
   "outputs": [
    {
     "name": "stdout",
     "output_type": "stream",
     "text": [
      "Car Information: 2025 maruti nexa\n"
     ]
    }
   ],
   "source": [
    "# Q 2  Write a Python class for a `Car` with attributes for `make`, `model`, and `year`. Include a method to display the car's information.\n",
    "class Car:\n",
    "    \"\"\"\n",
    "    A class representing a car with make, model, and year attributes.\n",
    "    \"\"\"\n",
    "    def __init__(self, make, model, year):\n",
    "        \"\"\"\n",
    "        Initializes a Car object with the given attributes.\n",
    "\n",
    "        :param make: str - The manufacturer of the car\n",
    "        :param model: str - The model of the car\n",
    "        :param year: int - The year the car was made\n",
    "        \"\"\"\n",
    "        self.make = make\n",
    "        self.model = model\n",
    "        self.year = year\n",
    "\n",
    "    def display_info(self):\n",
    "        \"\"\"\n",
    "        Displays the car's information in a readable format.\n",
    "        \"\"\"\n",
    "        return f\"Car Information: {self.year} {self.make} {self.model}\"\n",
    "\n",
    "\n",
    "# Example usage\n",
    "my_car = Car(make=\"maruti\", model=\"nexa\", year=2025)\n",
    "print(my_car.display_info())\n",
    "\n",
    "\n",
    "\n"
   ]
  },
  {
   "cell_type": "code",
   "execution_count": null,
   "id": "5215e22c-69f5-4801-bdea-858f2dec3c38",
   "metadata": {},
   "outputs": [],
   "source": [
    "# Q 3  Explain the difference between instance methods and class methods. Provide an example of each.\n",
    "\n",
    "''' \n",
    "Instance methods\n",
    "When creating an instance method, the first parameter is always self.\n",
    "You can name it anything you want, but the meaning will always be the same,\n",
    "and you should use self since it's the naming convention. self is (usually) passed hiddenly when calling an instance method; \n",
    "it represents the instance calling the method.\n",
    "\n",
    "Class methods\n",
    "The idea of a class method is very similar to an instance method,\n",
    "only difference being that instead of passing the instance hiddenly as a first parameter, \n",
    "we're now passing the class itself as a first parameter.'''"
   ]
  },
  {
   "cell_type": "code",
   "execution_count": 5,
   "id": "19962a54-dcfd-4658-bdde-343bca23b30e",
   "metadata": {},
   "outputs": [
    {
     "name": "stdout",
     "output_type": "stream",
     "text": [
      "100\n"
     ]
    }
   ],
   "source": [
    "# Q 4 How does Python implement method overloading? Give an example \n",
    "'''Method Overloading:\n",
    "\n",
    "Two or more methods have the same name but different numbers of parameters or different types of parameters, \n",
    "or both. These methods are called overloaded methods and this is called method overloading. \n",
    "example \n",
    "'''\n",
    "# First product method.\n",
    "# Takes two argument and print their\n",
    "# product\n",
    "\n",
    "\n",
    "def product(a, b):\n",
    "    p = a * b\n",
    "    print(p)\n",
    "\n",
    "# Second product method\n",
    "# Takes three argument and print their\n",
    "# product\n",
    "\n",
    "\n",
    "def product(a, b, c):\n",
    "    p = a * b*c\n",
    "    print(p)\n",
    "\n",
    "# Uncommenting the below line shows an error\n",
    "# product(4, 5)\n",
    "\n",
    "\n",
    "# This line will call the second product method\n",
    "product(4, 5, 5)"
   ]
  },
  {
   "cell_type": "code",
   "execution_count": null,
   "id": "94b80831-2b25-49e9-bb01-aea8bd0f5e53",
   "metadata": {},
   "outputs": [],
   "source": []
  },
  {
   "cell_type": "code",
   "execution_count": null,
   "id": "5177cf14-8c32-4754-9dbc-2c04033474b4",
   "metadata": {},
   "outputs": [],
   "source": [
    "# Q 5 What are the three types of access modifiers in Python? How are they denoted?\n",
    "''' Python supports three types of access modifiers which are public,private and protected. \n",
    "These access modifiers provide restrictions on the access of member variables and methods of the class from any object outside the class.\n",
    "\n",
    "Public Access Modifier\n",
    "By default the member variables and methods are public which means they can be accessed from anywhere outside or inside the class. \n",
    "No public keyword is required to make the class or methods and properties public.Here is an example of Public access modifier −\n",
    "\n",
    "Example\n",
    "The student class has two member variables, name and age and a method display which prints the member variable values.\n",
    "Both these variables and the methods are public as no specific keyword is assigned to them.\n",
    "\n",
    "Private Access Modifier\n",
    "Class properties and methods with private access modifier can only be accessed within the class\n",
    "where they are defined and cannot be accessed outside the class. \n",
    "In Python private properties and methods are declared by adding a prefix with two underscores(‘__’) before their declaration.\n",
    "\n",
    "Example\n",
    "The Class BankAccount is being declared with two private variables\n",
    "i.e account_number and balance and a private property display_balance which prints the balance of the bank account.\n",
    "As both the properties and method are private so while accessing them from outside the class it raises Attribute error.\n",
    "\n",
    "Protected Access Modifier\n",
    "Class properties and methods with protected access modifier can be accessed within the class and from the class that inherits the protected class.\n",
    "In python, protected members and methods are declared using single underscore(‘_’) as prefix before their names.\n",
    "\n",
    "example-\n",
    "The Person class has two protected properties i.e _name and _age and a protected method _display that displays \n",
    "the values of the properties of the person class.\n",
    "The student class is inherited from Person class with an additional property '''"
   ]
  },
  {
   "cell_type": "code",
   "execution_count": 7,
   "id": "f219384a-4530-455a-8c5b-bbcf46a18ccb",
   "metadata": {},
   "outputs": [
    {
     "name": "stdout",
     "output_type": "stream",
     "text": [
      "Father : RAM\n",
      "Mother : SITA\n"
     ]
    }
   ],
   "source": [
    "# Q 6  Describe the five types of inheritance in Python. Provide a simple example of multiple inheritance.\n",
    "''' There Are The Types of Inheritance in Python\n",
    "Single Inheritance.\n",
    "Multiple Inheritance.\n",
    "Multilevel Inheritance.\n",
    "Hierarchical Inheritance.\n",
    "Hybrid Inheritance.\n",
    "Multiple Inheritance: \n",
    "When a class can be derived from more than one base class this type of inheritance is called multiple inheritances.  In multiple inheritances, \n",
    "all the features of the base classes are inherited into the derived class. \n",
    "example - '''\n",
    "# Python program to demonstrate\n",
    "# multiple inheritance\n",
    "\n",
    "# Base class1\n",
    "class Mother:\n",
    "\tmothername = \"\"\n",
    "\n",
    "\tdef mother(self):\n",
    "\t\tprint(self.mothername)\n",
    "\n",
    "# Base class2\n",
    "\n",
    "\n",
    "class Father:\n",
    "\tfathername = \"\"\n",
    "\n",
    "\tdef father(self):\n",
    "\t\tprint(self.fathername)\n",
    "\n",
    "# Derived class\n",
    "\n",
    "\n",
    "class Son(Mother, Father):\n",
    "\tdef parents(self):\n",
    "\t\tprint(\"Father :\", self.fathername)\n",
    "\t\tprint(\"Mother :\", self.mothername)\n",
    "\n",
    "\n",
    "# Driver's code\n",
    "s1 = Son()\n",
    "s1.fathername = \"RAM\"\n",
    "s1.mothername = \"SITA\"\n",
    "s1.parents()\n"
   ]
  },
  {
   "cell_type": "code",
   "execution_count": 11,
   "id": "07e17618-b630-42a4-afe2-92de90bbdff3",
   "metadata": {},
   "outputs": [
    {
     "name": "stdout",
     "output_type": "stream",
     "text": [
      "In class B\n"
     ]
    }
   ],
   "source": [
    "#  Q 7 What is the Method Resolution Order (MRO) in Python? How can you retrieve it programmatically?\n",
    "\n",
    "''' MRO stands for Method Resolution Order. It is the order in which Python looks for a method in a hierarchy of classes.\n",
    "MRO follows a specific sequence to determine which method to invoke when it encounters multiple classes with the same method name..\n",
    "For Example : # Python program showing '''\n",
    "# how MRO works\n",
    "\n",
    "class A:\n",
    "    def rk(self):\n",
    "        print(\"In class A\")\n",
    "\n",
    "class B(A):\n",
    "    def rk(self):\n",
    "        print(\"In class B\")\n",
    "\n",
    "r = B()\n",
    "r.rk()"
   ]
  },
  {
   "cell_type": "code",
   "execution_count": 13,
   "id": "9b69467e-e227-4404-92d4-601a70505e75",
   "metadata": {},
   "outputs": [
    {
     "name": "stdout",
     "output_type": "stream",
     "text": [
      "Circle area: 78.53981633974483\n",
      "Rectangle area: 24\n"
     ]
    }
   ],
   "source": [
    "# Q 8  Create an abstract base class `Shape` with an abstract method `area()`. Then create two subclasses Circle` and `Rectangle` that implement the `area()` method.\n",
    "''' Shape Class:\n",
    "Defined as an abstract base class (ABC) using the abc module.\n",
    "Contains the abstract method area(), which must be implemented by subclasses.\n",
    "\n",
    "Circle Class:\n",
    "Inherits from Shape.\n",
    "Implements the area() method using the formula for the area of a circle: 𝜋𝑟2 \n",
    " .\n",
    "Rectangle Class:\n",
    "Inherits from Shape.\n",
    "Implements the area() method using the formula for the area of a rectangle:  width × height'''\n",
    "from abc import ABC, abstractmethod\n",
    "import math\n",
    "\n",
    "class Shape(ABC):\n",
    "    \"\"\"\n",
    "    Abstract base class representing a generic shape.\n",
    "    \"\"\"\n",
    "    \n",
    "    @abstractmethod\n",
    "    def area(self):\n",
    "        \"\"\"\n",
    "        Abstract method to calculate the area of the shape.\n",
    "        Must be implemented by subclasses.\n",
    "        \"\"\"\n",
    "        pass\n",
    "\n",
    "class Circle(Shape):\n",
    "    \"\"\"\n",
    "    Class representing a circle.\n",
    "    \"\"\"\n",
    "    \n",
    "    def __init__(self, radius):\n",
    "        self.radius = radius\n",
    "    \n",
    "    def area(self):\n",
    "        \"\"\"\n",
    "        Calculate the area of the circle.\n",
    "        Formula: π * radius^2\n",
    "        \"\"\"\n",
    "        return math.pi * (self.radius ** 2)\n",
    "\n",
    "class Rectangle(Shape):\n",
    "    \"\"\"\n",
    "    Class representing a rectangle.\n",
    "    \"\"\"\n",
    "    \n",
    "    def __init__(self, width, height):\n",
    "        self.width = width\n",
    "        self.height = height\n",
    "    \n",
    "    def area(self):\n",
    "        \"\"\"\n",
    "        Calculate the area of the rectangle.\n",
    "        Formula: width * height\n",
    "        \"\"\"\n",
    "        return self.width * self.height\n",
    "\n",
    "# Example usage\n",
    "circle = Circle(radius=5)\n",
    "rectangle = Rectangle(width=4, height=6)\n",
    "\n",
    "print(\"Circle area:\", circle.area())\n",
    "print(\"Rectangle area:\", rectangle.area())\n",
    "\n"
   ]
  },
  {
   "cell_type": "code",
   "execution_count": 15,
   "id": "5effa06e-5448-46e2-a1e3-bdc859911678",
   "metadata": {},
   "outputs": [
    {
     "name": "stdout",
     "output_type": "stream",
     "text": [
      "7\n",
      "Hello, World!\n",
      "[1, 2, 3, 4]\n"
     ]
    }
   ],
   "source": [
    "# Q 9  Demonstrate polymorphism by creating a function that can work with different shape objects to calculate and print their areas.\n",
    "'''\n",
    "Polymorphism is a foundational concept in programming that allows entities like functions,\n",
    "methods or operators to behave differently based on the type of data they are handling.\n",
    "Derived from Greek, the term literally means “many forms”.\n",
    "\n",
    "Python’s dynamic typing and duck typing make it inherently polymorphic. \n",
    "Functions, operators and even built-in objects like loops exhibit polymorphic behavior '''\n",
    "def add(a, b):\n",
    "    return a + b\n",
    "\n",
    "print(add(3, 4))           # Integer addition\n",
    "print(add(\"Hello, \", \"World!\"))  # String concatenation\n",
    "print(add([1, 2], [3, 4])) # List concatenation\n",
    "\n",
    "\n"
   ]
  },
  {
   "cell_type": "code",
   "execution_count": 17,
   "id": "7f53473b-fa0d-434a-b8f0-fbef525949d7",
   "metadata": {},
   "outputs": [
    {
     "name": "stdout",
     "output_type": "stream",
     "text": [
      "Account Number: 123456789\n",
      "Initial Balance: 1000\n",
      "Deposited 500. New balance: 1500\n",
      "Withdrew 300. New balance: 1200\n",
      "Insufficient funds.\n",
      "Final Balance: 1200\n"
     ]
    }
   ],
   "source": [
    "# Q 10  Implement encapsulation in a `BankAccount` class with private attributes for `balance` and account_number`. Include methods for deposit, withdrawal, and balance inquiry.\n",
    "class BankAccount:\n",
    "    def __init__(self, account_number, initial_balance=0):\n",
    "        \"\"\"\n",
    "        Initialize a new BankAccount instance.\n",
    "\n",
    "        :param account_number: Unique identifier for the account\n",
    "        :param initial_balance: Starting balance of the account (default is 0)\n",
    "        \"\"\"\n",
    "        self.__account_number = account_number  # Private attribute\n",
    "        self.__balance = initial_balance  # Private attribute\n",
    "\n",
    "    def deposit(self, amount):\n",
    "        \"\"\"\n",
    "        Deposit money into the account.\n",
    "\n",
    "        :param amount: Amount to deposit (must be positive)\n",
    "        \"\"\"\n",
    "        if amount > 0:\n",
    "            self.__balance += amount\n",
    "            print(f\"Deposited {amount}. New balance: {self.__balance}\")\n",
    "        else:\n",
    "            print(\"Deposit amount must be positive.\")\n",
    "\n",
    "    def withdraw(self, amount):\n",
    "        \"\"\"\n",
    "        Withdraw money from the account.\n",
    "\n",
    "        :param amount: Amount to withdraw (must be positive and <= current balance)\n",
    "        \"\"\"\n",
    "        if amount > 0:\n",
    "            if amount <= self.__balance:\n",
    "                self.__balance -= amount\n",
    "                print(f\"Withdrew {amount}. New balance: {self.__balance}\")\n",
    "            else:\n",
    "                print(\"Insufficient funds.\")\n",
    "        else:\n",
    "            print(\"Withdrawal amount must be positive.\")\n",
    "\n",
    "    def get_balance(self):\n",
    "        \"\"\"\n",
    "        Return the current balance of the account.\n",
    "\n",
    "        :return: Current balance\n",
    "        \"\"\"\n",
    "        return self.__balance\n",
    "\n",
    "    def get_account_number(self):\n",
    "        \"\"\"\n",
    "        Return the account number of the account.\n",
    "\n",
    "        :return: Account number\n",
    "        \"\"\"\n",
    "        return self.__account_number\n",
    "\n",
    "# Example usage:\n",
    "if __name__ == \"__main__\":\n",
    "    account = BankAccount(\"123456789\", 1000)\n",
    "    print(\"Account Number:\", account.get_account_number())\n",
    "    print(\"Initial Balance:\", account.get_balance())\n",
    "\n",
    "    account.deposit(500)\n",
    "    account.withdraw(300)\n",
    "    account.withdraw(1500)  # Should print insufficient funds\n",
    "    print(\"Final Balance:\", account.get_balance())\n"
   ]
  },
  {
   "cell_type": "code",
   "execution_count": 19,
   "id": "6f106f34-a045-4195-b615-d74eefcfa2b6",
   "metadata": {},
   "outputs": [
    {
     "name": "stdout",
     "output_type": "stream",
     "text": [
      "Person: Alice, Age: 30\n"
     ]
    }
   ],
   "source": [
    "# Q 11 Write a class that overrides the `__str__` and `__add__` magic methods. What will these methods allow you to do?\n",
    "'''The __str__() special method, also known as the \"dunder method\" or \"magic method,\" plays a crucial role in how Python objects are represented as strings. It's particularly valuable when you want to provide a user-friendly, informal string representation of your custom objects.\n",
    "\n",
    "Key Points:\n",
    "\n",
    "Purpose:\n",
    "\n",
    "Returns a human-readable string representation of an object.\n",
    "Primarily intended for end-users.\n",
    "Should be concise, informative, and easy to understand.\n",
    "Invocation:\n",
    "\n",
    "Automatically called by the built-in str() function when passed an instance of a class.\n",
    "Also implicitly used by the print() function to display objects.\n",
    "Implementation:\n",
    "\n",
    "Defined within a class as a method named __str__.\n",
    "Takes no explicit arguments (the self argument is implicit).\n",
    "Returns a string object.'''\n",
    "\n",
    "class Person:\n",
    "    def __init__(self, name, age):\n",
    "        self.name = name\n",
    "        self.age = age\n",
    "\n",
    "    def __str__(self):\n",
    "        return f\"Person: {self.name}, Age: {self.age}\"\n",
    "\n",
    "person1 = Person(\"Alice\", 30)\n",
    "print(person1)  # Output: Person: Alice, Age: 30\n",
    "\n",
    "\n"
   ]
  },
  {
   "cell_type": "code",
   "execution_count": 21,
   "id": "a0e26466-65b7-408c-88b9-d2c4cae8de86",
   "metadata": {},
   "outputs": [
    {
     "name": "stdout",
     "output_type": "stream",
     "text": [
      "Function 'long_time' executed in 0.0320s\n"
     ]
    }
   ],
   "source": [
    "# Q 12  Create a decorator that measures and prints the execution time of a function.\n",
    "''' Decorator: A decorator is used to supercharge or modify a function. \n",
    "A decorator is a higher-order function that wraps another function and enhances it or changes it. '''\n",
    "from time import time \n",
    "\n",
    "\n",
    "def timer_func(func): \n",
    "\t# This function shows the execution time of \n",
    "\t# the function object passed \n",
    "\tdef wrap_func(*args, **kwargs): \n",
    "\t\tt1 = time() \n",
    "\t\tresult = func(*args, **kwargs) \n",
    "\t\tt2 = time() \n",
    "\t\tprint(f'Function {func.__name__!r} executed in {(t2-t1):.4f}s') \n",
    "\t\treturn result \n",
    "\treturn wrap_func \n",
    "\n",
    "\n",
    "@timer_func\n",
    "def long_time(n): \n",
    "\tfor i in range(n): \n",
    "\t\tfor j in range(100000): \n",
    "\t\t\ti*j \n",
    "\n",
    "\n",
    "long_time(5) \n"
   ]
  },
  {
   "cell_type": "code",
   "execution_count": 23,
   "id": "b8520495-8250-4686-96c4-1f31688c6cd3",
   "metadata": {},
   "outputs": [
    {
     "name": "stdout",
     "output_type": "stream",
     "text": [
      "Method in B\n"
     ]
    }
   ],
   "source": [
    "# Q 13  Explain the concept of the Diamond Problem in multiple inheritance. How does Python resolve it?\n",
    "''' The Diamond Problem is an ambiguity that can occur in multiple inheritance, \n",
    "where a class inherits from two classes that in turn inherit from a common base class. \n",
    "This creates a diamond-shaped inheritance structure.'''\n",
    "class A:\n",
    "    def method(self):\n",
    "        print(\"Method in A\")\n",
    "\n",
    "class B(A):\n",
    "    def method(self):\n",
    "        print(\"Method in B\")\n",
    "\n",
    "class C(A):\n",
    "    def method(self):\n",
    "        print(\"Method in C\")\n",
    "\n",
    "class D(B, C):\n",
    "    pass\n",
    "\n",
    "obj = D()\n",
    "obj.method() "
   ]
  },
  {
   "cell_type": "code",
   "execution_count": 25,
   "id": "1c9c57fa-f76f-47c9-a488-23ea538cbdc6",
   "metadata": {},
   "outputs": [
    {
     "name": "stdout",
     "output_type": "stream",
     "text": [
      "3\n"
     ]
    }
   ],
   "source": [
    "# Q 14 Write a class method that keeps track of the number of instances created from a class\n",
    "''' Instances of a class mean the objects created for a particular class. A single class can have multiple objects of it.\n",
    "Here, we will find the count of the number of instances of a class in Python.\n",
    "Approach:\n",
    "Whenever an object is created, the constructor of that particular class is called.\n",
    "Constructor is a function whose name is the same as that of class name and it doesn’t have any return type.\n",
    "A constructor is used to initialize the variables of a class.\n",
    "Whenever a constructor is called which means a new object is created, \n",
    "we just have to increment a counter that will keep track of the no. of objects that particular class has.'''\n",
    "# code \n",
    "class geeks: \n",
    "\t\n",
    "\t# this is used to print the number \n",
    "\t# of instances of a class \n",
    "\tcounter = 0\n",
    "\n",
    "\t# constructor of geeks class \n",
    "\tdef __init__(self): \n",
    "\t\t\n",
    "\t\t# increment \n",
    "\t\tgeeks.counter += 1\n",
    "\n",
    "\n",
    "# object or instance of geeks class \n",
    "g1 = geeks() \n",
    "g2 = geeks() \n",
    "g3 = geeks() \n",
    "print(geeks.counter) \n"
   ]
  },
  {
   "cell_type": "code",
   "execution_count": 27,
   "id": "13e44eb1-b302-4364-b70b-6b563438e9f5",
   "metadata": {},
   "outputs": [
    {
     "name": "stdout",
     "output_type": "stream",
     "text": [
      "true\n"
     ]
    }
   ],
   "source": [
    "# Q 15  Implement a static method in a class that checks if a given year is a leap year.\n",
    "''' You are given an Integer n. Return true if It is a Leap Year otherwise return false. A leap year is a year that contains an additional day, February 29th, making it 366 days long instead of the usual 365 days. Leap years are necessary to keep our calendar in alignment with the Earth’s revolutions around the Sun.\n",
    "\n",
    "Note: A year is a leap year if “any one of ” the following conditions are satisfied: \n",
    "\n",
    "The year is multiple of 400.\n",
    "The year is a multiple of 4 and not a multiple of 100.'''\n",
    "def checkYear(n):\n",
    "  \n",
    "    # Check if n is divisible by 4\n",
    "    if n % 4 == 0:\n",
    "      \n",
    "        # If it's divisible by 100, it should also be \n",
    "        # divisible by 400 to be a leap year\n",
    "        if n % 100 == 0:\n",
    "            return n % 400 == 0\n",
    "        return True\n",
    "    return False\n",
    "\n",
    "if __name__ == \"__main__\":\n",
    "  year = 2000\n",
    "  if checkYear(year):\n",
    "      print(\"true\")\n",
    "  else:\n",
    "      print(\"false\")"
   ]
  },
  {
   "cell_type": "code",
   "execution_count": null,
   "id": "73ed47b8-55d4-48ec-9a1a-9cd7895ca38f",
   "metadata": {},
   "outputs": [],
   "source": []
  }
 ],
 "metadata": {
  "kernelspec": {
   "display_name": "Python 3 (ipykernel)",
   "language": "python",
   "name": "python3"
  },
  "language_info": {
   "codemirror_mode": {
    "name": "ipython",
    "version": 3
   },
   "file_extension": ".py",
   "mimetype": "text/x-python",
   "name": "python",
   "nbconvert_exporter": "python",
   "pygments_lexer": "ipython3",
   "version": "3.11.7"
  }
 },
 "nbformat": 4,
 "nbformat_minor": 5
}
